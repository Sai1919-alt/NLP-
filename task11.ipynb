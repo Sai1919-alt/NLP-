{
  "nbformat": 4,
  "nbformat_minor": 0,
  "metadata": {
    "colab": {
      "provenance": [],
      "authorship_tag": "ABX9TyP2JDjfioCmO2+b/jC2ii06",
      "include_colab_link": true
    },
    "kernelspec": {
      "name": "python3",
      "display_name": "Python 3"
    },
    "language_info": {
      "name": "python"
    }
  },
  "cells": [
    {
      "cell_type": "markdown",
      "metadata": {
        "id": "view-in-github",
        "colab_type": "text"
      },
      "source": [
        "<a href=\"https://colab.research.google.com/github/Sai1919-alt/NLP-/blob/main/task11.ipynb\" target=\"_parent\"><img src=\"https://colab.research.google.com/assets/colab-badge.svg\" alt=\"Open In Colab\"/></a>"
      ]
    },
    {
      "cell_type": "code",
      "execution_count": null,
      "metadata": {
        "colab": {
          "base_uri": "https://localhost:8080/"
        },
        "id": "cMc8zkaYwuue",
        "outputId": "997f0d9c-6a32-4161-fcbd-93fee89c1c34"
      },
      "outputs": [
        {
          "output_type": "stream",
          "name": "stdout",
          "text": [
            "Natural language processing (NLP) is a subfield of computer science and especially artificial intelligence. It is primarily concerned with providing computers with the ability to process data encoded in natural language and is thus closely related to information retrieval, knowledge representation and computational linguistics, a subfield of linguistics. Major tasks in natural language processing are speech recognition, text classification, natural-language understanding, and natural-language generation.\n",
            "\n",
            "\n"
          ]
        }
      ],
      "source": [
        "import re\n",
        "import requests\n",
        "import torch\n",
        "import torch.nn as nn\n",
        "from bs4 import BeautifulSoup\n",
        "from tensorflow.keras.preprocessing.text import Tokenizer\n",
        "from tensorflow.keras.utils import pad_sequences\n",
        "\n",
        "# Define a simple LSTM-based model\n",
        "class ChunkerModel(nn.Module):\n",
        "    def __init__(self, vocab_size):\n",
        "        super().__init__()\n",
        "        self.lstm = nn.LSTM(128, 64, batch_first=True)\n",
        "        self.fc = nn.Linear(64, 1)\n",
        "\n",
        "    def forward(self, x):\n",
        "        lstm_out, _ = self.lstm(x)\n",
        "        return torch.sigmoid(self.fc(lstm_out[:, -1, :]))\n",
        "\n",
        "# Fetch visible text from a URL\n",
        "def fetch_text(url):\n",
        "    html = requests.get(url).text\n",
        "    soup = BeautifulSoup(html, 'html.parser')\n",
        "    paragraphs = soup.find_all('p')\n",
        "    combined_text = ' '.join(p.get_text() for p in paragraphs)\n",
        "    return re.sub(r'\\s+', ' ', combined_text)\n",
        "\n",
        "# Tokenize and pad the text\n",
        "def preprocess(text):\n",
        "    tok = Tokenizer(num_words=5000)\n",
        "    tok.fit_on_texts([text])\n",
        "    sequences = tok.texts_to_sequences([text])\n",
        "    padded = pad_sequences(sequences, maxlen=100, padding='post')\n",
        "    return padded, tok\n",
        "\n",
        "# Segment and return a preview of the text (first 5 sentences)\n",
        "def segment_text(url):\n",
        "    text = fetch_text(url)\n",
        "    seq, tok = preprocess(text)\n",
        "    return text.split('. ')[:5]  # Return first 5 sentence-like segments\n",
        "\n",
        "# Display sample NLP description and preview from Wikipedia\n",
        "print(\n",
        "    \"Natural language processing (NLP) is a subfield of computer science and especially artificial intelligence. \"\n",
        "    \"It is primarily concerned with providing computers with the ability to process data encoded in natural \"\n",
        "    \"language and is thus closely related to information retrieval, knowledge representation and \"\n",
        "    \"computational linguistics, a subfield of linguistics. \"\n",
        "    \"Major tasks in natural language processing are speech recognition, text classification, natural-language \"\n",
        "    \"understanding, and natural-language generation.\\n\",\n",
        "    *segment_text(\"https://en.wikipedia.org/wiki/Natural_language_processing\"),\n",
        "    sep=\"\\n\"\n",
        ")\n"
      ]
    }
  ]
}