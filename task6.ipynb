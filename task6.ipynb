{
  "nbformat": 4,
  "nbformat_minor": 0,
  "metadata": {
    "colab": {
      "provenance": [],
      "authorship_tag": "ABX9TyNIvHfx8BGsy4G5QDGL8rO3",
      "include_colab_link": true
    },
    "kernelspec": {
      "name": "python3",
      "display_name": "Python 3"
    },
    "language_info": {
      "name": "python"
    }
  },
  "cells": [
    {
      "cell_type": "markdown",
      "metadata": {
        "id": "view-in-github",
        "colab_type": "text"
      },
      "source": [
        "<a href=\"https://colab.research.google.com/github/Sai1919-alt/NLP-/blob/main/task6.ipynb\" target=\"_parent\"><img src=\"https://colab.research.google.com/assets/colab-badge.svg\" alt=\"Open In Colab\"/></a>"
      ]
    },
    {
      "cell_type": "code",
      "execution_count": 3,
      "metadata": {
        "id": "u6_X9ISIEvCP",
        "colab": {
          "base_uri": "https://localhost:8080/"
        },
        "outputId": "90d90b8d-da0e-4045-addd-5efa0baf8c02"
      },
      "outputs": [
        {
          "output_type": "stream",
          "name": "stderr",
          "text": [
            "[nltk_data] Downloading package punkt to /root/nltk_data...\n",
            "[nltk_data]   Package punkt is already up-to-date!\n",
            "[nltk_data] Downloading package punkt_tab to /root/nltk_data...\n",
            "[nltk_data]   Unzipping tokenizers/punkt_tab.zip.\n"
          ]
        },
        {
          "output_type": "stream",
          "name": "stdout",
          "text": [
            "Enter a sentence: nlp\n",
            "Enter the value of N for N-grams: 1\n",
            "Next words: n l p n l p n l p\n"
          ]
        }
      ],
      "source": [
        "from nltk.util import ngrams\n",
        "from nltk.lm import Laplace\n",
        "from nltk.tokenize import word_tokenize\n",
        "from nltk.lm.preprocessing import padded_everygram_pipeline\n",
        "import nltk\n",
        "\n",
        "# Download necessary data\n",
        "nltk.download('punkt')\n",
        "nltk.download('punkt_tab') # Download punkt_tab\n",
        "\n",
        "def ngram_smoothing(sentence, n):\n",
        "    tokens = word_tokenize(sentence.lower())\n",
        "    train_data, padded_sents = padded_everygram_pipeline(n, [tokens])\n",
        "    model = Laplace(n)\n",
        "    model.fit(train_data, padded_sents)\n",
        "    return model\n",
        "\n",
        "# Input from user\n",
        "sentence = input(\"Enter a sentence: \")\n",
        "n = int(input(\"Enter the value of N for N-grams: \"))\n",
        "\n",
        "# Train model\n",
        "model = ngram_smoothing(sentence, n)\n",
        "\n",
        "# Get the context for next word prediction\n",
        "context = tuple(word_tokenize(sentence.lower())[-n+1:])\n",
        "\n",
        "# Generate 3 next words\n",
        "generated_words = []\n",
        "for _ in range(3):\n",
        "    next_word = model.generate(1, text_seed=context)\n",
        "    generated_words.extend(next_word)\n",
        "    # Update context with the new word\n",
        "    context = (*context[1:], next_word[0]) if n > 1 else ()\n",
        "\n",
        "print(\"Next words:\", ' '.join(generated_words))"
      ]
    }
  ]
}