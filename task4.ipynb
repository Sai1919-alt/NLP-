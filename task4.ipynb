{
  "nbformat": 4,
  "nbformat_minor": 0,
  "metadata": {
    "colab": {
      "provenance": [],
      "authorship_tag": "ABX9TyOV+XixzasOMlLJUN11o5Hb",
      "include_colab_link": true
    },
    "kernelspec": {
      "name": "python3",
      "display_name": "Python 3"
    },
    "language_info": {
      "name": "python"
    }
  },
  "cells": [
    {
      "cell_type": "markdown",
      "metadata": {
        "id": "view-in-github",
        "colab_type": "text"
      },
      "source": [
        "<a href=\"https://colab.research.google.com/github/Sai1919-alt/NLP-/blob/main/task4.ipynb\" target=\"_parent\"><img src=\"https://colab.research.google.com/assets/colab-badge.svg\" alt=\"Open In Colab\"/></a>"
      ]
    },
    {
      "cell_type": "code",
      "execution_count": null,
      "metadata": {
        "colab": {
          "base_uri": "https://localhost:8080/"
        },
        "id": "4VSgh2yzIgxJ",
        "outputId": "0b66fcff-3416-4197-f16b-5dddd6eada25"
      },
      "outputs": [
        {
          "output_type": "stream",
          "name": "stdout",
          "text": [
            "Most frequent words (after stopword removal):\n",
            "hola: 1\n",
            "llamo: 1\n",
            "sai: 1\n",
            "india: 1\n",
            "actualmente: 1\n",
            "estudio: 1\n",
            "universidad: 1\n",
            "veltech: 1\n",
            "chennai: 1\n",
            "cosas: 1\n"
          ]
        },
        {
          "output_type": "stream",
          "name": "stderr",
          "text": [
            "[nltk_data] Downloading package punkt_tab to /root/nltk_data...\n",
            "[nltk_data]   Package punkt_tab is already up-to-date!\n",
            "[nltk_data] Downloading package stopwords to /root/nltk_data...\n",
            "[nltk_data]   Package stopwords is already up-to-date!\n"
          ]
        }
      ],
      "source": [
        "import nltk\n",
        "from nltk.tokenize import word_tokenize\n",
        "from nltk.corpus import stopwords\n",
        "from collections import Counter\n",
        "import string\n",
        "\n",
        "nltk.download('punkt_tab')\n",
        "nltk.download('stopwords')\n",
        "\n",
        "text = \"\"\"\n",
        "Hola, me llamo sai y soy de India. Actualmente estudio en la Universidad Veltech en Chennai.\n",
        "Mis cosas favoritas son bailar y jugar cricket. Todos los días escucho música.\n",
        "\"\"\"\n",
        "\n",
        "tokens = word_tokenize(text.lower())\n",
        "\n",
        "tokens = [word for word in tokens if word.isalpha()]\n",
        "\n",
        "stop_words = set(stopwords.words('spanish'))\n",
        "filtered_tokens = [word for word in tokens if word not in stop_words]\n",
        "\n",
        "# 4. Count frequency of remaining words\n",
        "freq_dist = Counter(filtered_tokens)\n",
        "\n",
        "# 5. Print the most common words\n",
        "most_common = freq_dist.most_common(10)\n",
        "print(\"Most frequent words (after stopword removal):\")\n",
        "for word, freq in most_common:\n",
        "    print(f\"{word}: {freq}\")\n"
      ]
    }
  ]
}