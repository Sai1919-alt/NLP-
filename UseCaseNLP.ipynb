{
  "nbformat": 4,
  "nbformat_minor": 0,
  "metadata": {
    "colab": {
      "provenance": [],
      "authorship_tag": "ABX9TyPPXjIO/iXIlkvORvF+QmjV",
      "include_colab_link": true
    },
    "kernelspec": {
      "name": "python3",
      "display_name": "Python 3"
    },
    "language_info": {
      "name": "python"
    }
  },
  "cells": [
    {
      "cell_type": "markdown",
      "metadata": {
        "id": "view-in-github",
        "colab_type": "text"
      },
      "source": [
        "<a href=\"https://colab.research.google.com/github/Sai1919-alt/NLP-/blob/main/UseCaseNLP.ipynb\" target=\"_parent\"><img src=\"https://colab.research.google.com/assets/colab-badge.svg\" alt=\"Open In Colab\"/></a>"
      ]
    },
    {
      "cell_type": "code",
      "execution_count": 1,
      "metadata": {
        "colab": {
          "base_uri": "https://localhost:8080/"
        },
        "id": "c6XkzEwtGNej",
        "outputId": "6a5c4ca8-44f7-4984-88e8-d28e5b3284e7"
      },
      "outputs": [
        {
          "output_type": "stream",
          "name": "stdout",
          "text": [
            "Model Accuracy: 0.0\n",
            "Prediction: Team likely to WIN 🏆\n"
          ]
        },
        {
          "output_type": "stream",
          "name": "stderr",
          "text": [
            "/usr/local/lib/python3.12/dist-packages/sklearn/utils/validation.py:2739: UserWarning: X does not have valid feature names, but RandomForestClassifier was fitted with feature names\n",
            "  warnings.warn(\n"
          ]
        }
      ],
      "source": [
        "import pandas as pd\n",
        "from sklearn.model_selection import train_test_split\n",
        "from sklearn.ensemble import RandomForestClassifier\n",
        "from sklearn.metrics import accuracy_score\n",
        "data = {\n",
        "    'runs': [120, 150, 200, 80, 160, 190, 140, 180],\n",
        "    'wickets': [3, 2, 5, 6, 4, 3, 2, 4],\n",
        "    'overs': [15, 18, 20, 12, 17, 19, 16, 18],\n",
        "    'target': [180, 160, 200, 150, 170, 195, 180, 200],\n",
        "    'win': [1, 1, 1, 0, 1, 1, 0, 0]  # 1 = Win, 0 = Lose\n",
        "}\n",
        "df = pd.DataFrame(data)\n",
        "X = df[['runs', 'wickets', 'overs', 'target']]\n",
        "y = df['win']\n",
        "X_train, X_test, y_train, y_test = train_test_split(X, y, test_size=0.25, random_state=42)\n",
        "model = RandomForestClassifier(n_estimators=100, random_state=42)\n",
        "model.fit(X_train, y_train)\n",
        "y_pred = model.predict(X_test)\n",
        "accuracy = accuracy_score(y_test, y_pred)\n",
        "print(\"Model Accuracy:\", accuracy)\n",
        "new_match = [[150, 3, 17, 180]]\n",
        "prediction = model.predict(new_match)\n",
        "if prediction[0] == 1:\n",
        "    print(\"Prediction: Team likely to WIN 🏆\")\n",
        "else:\n",
        "    print(\"Prediction: Team likely to LOSE ❌\")"
      ]
    }
  ]
}