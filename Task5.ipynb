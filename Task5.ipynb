{
  "nbformat": 4,
  "nbformat_minor": 0,
  "metadata": {
    "colab": {
      "provenance": [],
      "authorship_tag": "ABX9TyMBq6eDx+kRhxwsmSeYV1z4",
      "include_colab_link": true
    },
    "kernelspec": {
      "name": "python3",
      "display_name": "Python 3"
    },
    "language_info": {
      "name": "python"
    }
  },
  "cells": [
    {
      "cell_type": "markdown",
      "metadata": {
        "id": "view-in-github",
        "colab_type": "text"
      },
      "source": [
        "<a href=\"https://colab.research.google.com/github/Sai1919-alt/NLP-/blob/main/Task5.ipynb\" target=\"_parent\"><img src=\"https://colab.research.google.com/assets/colab-badge.svg\" alt=\"Open In Colab\"/></a>"
      ]
    },
    {
      "cell_type": "code",
      "source": [
        "import string\n",
        "import random\n",
        "import nltk\n",
        "from nltk.corpus import stopwords, reuters\n",
        "from collections import Counter, defaultdict\n",
        "from nltk import FreqDist, ngrams\n",
        "nltk.download('stopwords')\n",
        "nltk.download('reuters')\n",
        "nltk.download('punkt')\n",
        "sents = reuters.sents()\n",
        "stop_words = set(stopwords.words('english'))\n",
        "string.punctuation = string.punctuation + '“”’‘—-'\n",
        "removal_list = set(stop_words).union(set(string.punctuation)).union({'lt', 'rt'})\n",
        "unigram = []\n",
        "bigram = []\n",
        "trigram = []\n",
        "tokenized_text = []\n",
        "for sentence in sents:\n",
        "    sentence = [word.lower() for word in sentence]\n",
        "    for word in sentence:\n",
        "        if word != '.':\n",
        "            unigram.append(word)\n",
        "    tokenized_text.extend(sentence)\n",
        "    bigram.extend(list(ngrams(sentence, 2, pad_left=True, pad_right=True)))\n",
        "    trigram.extend(list(ngrams(sentence, 3, pad_left=True, pad_right=True)))\n",
        "def remove_stopwords_unigrams(word_list):\n",
        "    return [word for word in word_list if word not in removal_list]\n",
        "def remove_stopwords_ngrams(ngram_list):\n",
        "    filtered = []\n",
        "    for ng in ngram_list:\n",
        "        if any(word not in removal_list and word is not None for word in ng):\n",
        "            filtered.append(ng)\n",
        "    return filtered\n",
        "unigram = remove_stopwords_unigrams(unigram)\n",
        "bigram = remove_stopwords_ngrams(bigram)\n",
        "trigram = remove_stopwords_ngrams(trigram)\n"
      ],
      "metadata": {
        "colab": {
          "base_uri": "https://localhost:8080/"
        },
        "id": "WjhqfJjxsH-I",
        "outputId": "3cd30c4f-2ca7-4ad1-d9f6-3d16cfde3696"
      },
      "execution_count": 5,
      "outputs": [
        {
          "output_type": "stream",
          "name": "stderr",
          "text": [
            "[nltk_data] Downloading package stopwords to /root/nltk_data...\n",
            "[nltk_data]   Package stopwords is already up-to-date!\n",
            "[nltk_data] Downloading package reuters to /root/nltk_data...\n",
            "[nltk_data]   Package reuters is already up-to-date!\n",
            "[nltk_data] Downloading package punkt to /root/nltk_data...\n",
            "[nltk_data]   Package punkt is already up-to-date!\n"
          ]
        }
      ]
    }
  ]
}