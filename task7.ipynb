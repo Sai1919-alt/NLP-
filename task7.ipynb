{
  "nbformat": 4,
  "nbformat_minor": 0,
  "metadata": {
    "colab": {
      "provenance": [],
      "authorship_tag": "ABX9TyMKqCHmD0S3G18IdvMvsCtA",
      "include_colab_link": true
    },
    "kernelspec": {
      "name": "python3",
      "display_name": "Python 3"
    },
    "language_info": {
      "name": "python"
    }
  },
  "cells": [
    {
      "cell_type": "markdown",
      "metadata": {
        "id": "view-in-github",
        "colab_type": "text"
      },
      "source": [
        "<a href=\"https://colab.research.google.com/github/Sai1919-alt/NLP-/blob/main/task7.ipynb\" target=\"_parent\"><img src=\"https://colab.research.google.com/assets/colab-badge.svg\" alt=\"Open In Colab\"/></a>"
      ]
    },
    {
      "cell_type": "code",
      "execution_count": 2,
      "metadata": {
        "colab": {
          "base_uri": "https://localhost:8080/"
        },
        "id": "9jKty7pouPkk",
        "outputId": "0c2a5a27-9046-46fb-a386-3cd7ca36844b"
      },
      "outputs": [
        {
          "output_type": "stream",
          "name": "stderr",
          "text": [
            "[nltk_data] Downloading package treebank to /root/nltk_data...\n",
            "[nltk_data]   Package treebank is already up-to-date!\n"
          ]
        },
        {
          "output_type": "stream",
          "name": "stdout",
          "text": [
            "Nlp\n",
            "[('Nlp', '``')]\n"
          ]
        }
      ],
      "source": [
        "import nltk\n",
        "\n",
        "from nltk.tag import HiddenMarkovModelTagger\n",
        "from nltk.corpus import treebank\n",
        "nltk.download('treebank')\n",
        "corpus = treebank.tagged_sents()\n",
        "train_data = corpus[:3000]\n",
        "test_data = corpus[3000:]\n",
        "hmm_tagger = HiddenMarkovModelTagger.train(train_data)\n",
        "sentence = input()\n",
        "tokens = nltk.word_tokenize(sentence)\n",
        "tagged_sentence = hmm_tagger.tag(tokens)\n",
        "print(tagged_sentence)"
      ]
    }
  ]
}