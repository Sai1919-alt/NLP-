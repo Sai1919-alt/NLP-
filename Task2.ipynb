{
  "nbformat": 4,
  "nbformat_minor": 0,
  "metadata": {
    "colab": {
      "provenance": [],
      "authorship_tag": "ABX9TyMFavhrKAdMhXobM0OTiOhb",
      "include_colab_link": true
    },
    "kernelspec": {
      "name": "python3",
      "display_name": "Python 3"
    },
    "language_info": {
      "name": "python"
    }
  },
  "cells": [
    {
      "cell_type": "markdown",
      "metadata": {
        "id": "view-in-github",
        "colab_type": "text"
      },
      "source": [
        "<a href=\"https://colab.research.google.com/github/Sai1919-alt/NLP-/blob/main/Task2.ipynb\" target=\"_parent\"><img src=\"https://colab.research.google.com/assets/colab-badge.svg\" alt=\"Open In Colab\"/></a>"
      ]
    },
    {
      "cell_type": "code",
      "execution_count": 5,
      "metadata": {
        "colab": {
          "base_uri": "https://localhost:8080/"
        },
        "id": "LdKLOR6FBb9a",
        "outputId": "77871a41-6e63-4728-b335-2c5ff9c39919"
      },
      "outputs": [
        {
          "output_type": "stream",
          "name": "stdout",
          "text": [
            "Tokens: ['hola', 'senora', 'come', 'estas', '?', 'y', 'que', 'tal']\n",
            "Transformers Tokens: {'input_ids': tensor([[  101,  7570,  2721,  2771,  2222, 22591,  9686, 28916,  9765, 21041,\n",
            "          2080,  4372,  2474, 16501,  2139,  2310,  7096, 15937,   102]]), 'token_type_ids': tensor([[0, 0, 0, 0, 0, 0, 0, 0, 0, 0, 0, 0, 0, 0, 0, 0, 0, 0, 0]]), 'attention_mask': tensor([[1, 1, 1, 1, 1, 1, 1, 1, 1, 1, 1, 1, 1, 1, 1, 1, 1, 1, 1]])}\n",
            "Transformers Tokens (List): ['[CLS]', 'ho', '##la', 'mi', 'll', '##amo', 'es', 'ashok', 'est', '##udi', '##o', 'en', 'la', 'universidad', 'de', 've', '##lt', '##ech', '[SEP]']\n",
            "Decoded Text: hola mi llamo es ashok estudio en la universidad de veltech\n"
          ]
        }
      ],
      "source": [
        "import nltk\n",
        "from nltk.tokenize import word_tokenize\n",
        "\n",
        "text = \"hola senora come estas? y que tal\"\n",
        "tokens = word_tokenize(text)\n",
        "print(\"Tokens:\", tokens)\n",
        "from transformers import AutoTokenizer\n",
        "tokenizer = AutoTokenizer.from_pretrained(\"bert-base-uncased\")\n",
        "text = \"Hola mi llamo es ashok  estudio en la universidad de veltech\"\n",
        "tokens_transformers = tokenizer(text, return_tensors=\"pt\")\n",
        "print(\"Transformers Tokens:\", tokens_transformers)\n",
        "tokens_transformers_list = tokenizer.convert_ids_to_tokens(tokens_transformers['input_ids'][0].numpy().tolist())\n",
        "print(\"Transformers Tokens (List):\", tokens_transformers_list)\n",
        "decoded_text = tokenizer.decode(tokens_transformers['input_ids'][0], skip_special_tokens=True)\n",
        "print(\"Decoded Text:\", decoded_text)"
      ]
    },
    {
      "cell_type": "code",
      "source": [],
      "metadata": {
        "id": "GzdrC6EJrAW6"
      },
      "execution_count": null,
      "outputs": []
    }
  ]
}